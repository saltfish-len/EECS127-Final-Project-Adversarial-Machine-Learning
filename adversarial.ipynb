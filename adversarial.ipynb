{
 "cells": [
  {
   "cell_type": "markdown",
   "metadata": {
    "colab_type": "text",
    "id": "tVYA302cLyfP"
   },
   "source": [
    "# Provable Robustness for Deep Classifiers"
   ]
  },
  {
   "cell_type": "markdown",
   "metadata": {
    "colab_type": "text",
    "id": "3LbEBZGKLyfZ"
   },
   "source": [
    "In this notebook, we will implement the robustness certificate that we derived in the PDF. That is, we will first define and train a three-layer neural classifier; then, we will calculate its dual, and using this, check whether the classifier is dual at given input points.\n",
    "\n",
    "**Your task is to fill in any sections labeled TODO in the code and answer the bolded questions.**"
   ]
  },
  {
   "cell_type": "markdown",
   "metadata": {},
   "source": [
    "## Torch"
   ]
  },
  {
   "cell_type": "markdown",
   "metadata": {
    "colab_type": "text",
    "id": "GJMgQYklLyfd"
   },
   "source": [
    "We are using torch here; for our purposes, we can think of torch as essentially numpy with GPU support and and automatic differentiation. That is, for any function we compute, torch automatically keeps track of the function's gradient with respect to inputs; this will make gradient descent much easier to implement. \n",
    "\n",
    "The primary object you will need to manipulate here is `torch.Tensor`, which can be thought of as equivalent to  `np.array`. Indexing, splicing, multiplication, etc. will work like you would expect them to in numpy.\n",
    "\n",
    "Also, most of the numpy functions you are used to are present in torch, with the same name. E.g:\n",
    "* `np.max(input, axis)` --> `torch.max(input, dim)` (Note that `torch.max` actually returns a tuple of the max and argmax).\n",
    "* `np.zeros` --> `torch.zeros`\n",
    "* `np.eye` --> `torch.eye`\n",
    "* `np.linalg.norm(x, ord, axis)` --> `torch.norm(input, p, dim)`\n",
    "\n",
    "For more information, refer to the [torch documentation](https://pytorch.org/docs/stable/torch.html) or the [torch tutorials](https://pytorch.org/tutorials/)."
   ]
  },
  {
   "cell_type": "markdown",
   "metadata": {
    "colab_type": "text",
    "id": "L3ChNfnaLBbw"
   },
   "source": [
    "## Setup"
   ]
  },
  {
   "cell_type": "markdown",
   "metadata": {
    "colab_type": "text",
    "id": "PczgocJtLBb0"
   },
   "source": [
    "Here, we import the relevant libraries."
   ]
  },
  {
   "cell_type": "code",
   "execution_count": 19,
   "metadata": {
    "ExecuteTime": {
     "end_time": "2024-04-25T21:50:24.850291Z",
     "start_time": "2024-04-25T21:50:24.845394Z"
    },
    "colab": {},
    "colab_type": "code",
    "id": "y3oepvCSLyfi"
   },
   "outputs": [
    {
     "ename": "SyntaxError",
     "evalue": "invalid syntax (3995428213.py, line 15)",
     "output_type": "error",
     "traceback": [
      "\u001B[0;36m  Cell \u001B[0;32mIn[19], line 15\u001B[0;36m\u001B[0m\n\u001B[0;31m    displayAlign: 'left', // Align equations to the left\u001B[0m\n\u001B[0m                          ^\u001B[0m\n\u001B[0;31mSyntaxError\u001B[0m\u001B[0;31m:\u001B[0m invalid syntax\n"
     ]
    }
   ],
   "source": [
    "import torch\n",
    "import torchvision\n",
    "import torchvision.transforms as transforms\n",
    "import torch.nn as nn\n",
    "import torch.nn.functional as F\n",
    "import torch.optim as optim\n",
    "\n",
    "import numpy as np\n",
    "import matplotlib.pyplot as plt\n",
    "import copy"
   ]
  },
  {
   "cell_type": "code",
   "execution_count": 20,
   "metadata": {
    "ExecuteTime": {
     "end_time": "2024-04-25T21:50:46.756192Z",
     "start_time": "2024-04-25T21:50:46.753396Z"
    }
   },
   "outputs": [
    {
     "data": {
      "application/javascript": [
       "MathJax.Hub.Config({\n",
       "  TeX: { equationNumbers: { autoNumber: \"AMS\" }, extensions: [\"AMSmath.js\", \"AMSsymbols.js\"] },\n",
       "  displayAlign: 'left', // Align equations to the left\n",
       "  displayIndent: '2em', // Indent equations from the left margin\n",
       "});\n",
       "\n"
      ],
      "text/plain": [
       "<IPython.core.display.Javascript object>"
      ]
     },
     "metadata": {},
     "output_type": "display_data"
    }
   ],
   "source": [
    "%%javascript\n",
    "MathJax.Hub.Config({\n",
    "  TeX: { equationNumbers: { autoNumber: \"AMS\" }, extensions: [\"AMSmath.js\", \"AMSsymbols.js\"] },\n",
    "  displayAlign: 'left', // Align equations to the left\n",
    "  displayIndent: '2em', // Indent equations from the left margin\n",
    "});\n"
   ]
  },
  {
   "cell_type": "markdown",
   "metadata": {
    "colab_type": "text",
    "id": "DPbnELbsLBcM"
   },
   "source": [
    "This line tells torch to use the GPU if available, and otherwise the CPU."
   ]
  },
  {
   "cell_type": "code",
   "execution_count": 3,
   "metadata": {
    "ExecuteTime": {
     "end_time": "2024-04-25T21:40:16.692334Z",
     "start_time": "2024-04-25T21:40:16.690376Z"
    },
    "colab": {
     "base_uri": "https://localhost:8080/",
     "height": 36
    },
    "colab_type": "code",
    "id": "hBpT1WebQ394",
    "outputId": "4316775c-297a-4541-c43c-89efc5bcb9c2"
   },
   "outputs": [
    {
     "name": "stdout",
     "output_type": "stream",
     "text": [
      "cpu\n"
     ]
    }
   ],
   "source": [
    "device = torch.device(\"cuda:0\" if torch.cuda.is_available() else \"cpu\")\n",
    "print(device)"
   ]
  },
  {
   "cell_type": "markdown",
   "metadata": {
    "colab_type": "text",
    "id": "awgBbuiRLyf0"
   },
   "source": [
    "Here, we load in the MNIST dataset. The inputs are $28\\times 28$ images of handwritten digits, while the labels are the corresponding digit. Note that we split the data between a training set and a test set. In order to have an unbiased estimate of the classifier's performance, we must train the model only on the training set (**never the test set**), then test its accuracy on the test set."
   ]
  },
  {
   "cell_type": "code",
   "execution_count": 4,
   "metadata": {
    "ExecuteTime": {
     "end_time": "2024-04-25T21:40:16.724238Z",
     "start_time": "2024-04-25T21:40:16.692890Z"
    },
    "colab": {
     "base_uri": "https://localhost:8080/",
     "height": 334,
     "referenced_widgets": [
      "c33f5dd2c1f443f1b771f0c46054eebf",
      "9601fc4be35543a784d4231a2de31edb",
      "8c6d1f7d352a4c089e4ae601a73c1068",
      "3ce16927200e4dfbba645b52ede3be15",
      "8a08a24593a2422985302484dc4594d1",
      "410b4797b4eb474185b6e9e8768efe90",
      "7f3be4825b3942bfbd15404ae2826968",
      "51fab2724f5240f2a197da36bfb5d37f",
      "1e0fc65863e247bba684aa570176e47e",
      "0ffb65b8fcd64017a1575ef5c6fb6783",
      "9b0d7cc1d4a84b32ad704d0f92aaf7c2",
      "359ca0eaed76461b8920085a62f10151",
      "0d2ab5e4e4634c2d84445dcb59e63093",
      "c75be203b59b4c599fd51b44b5359236",
      "7cb630c6d3784c0ba705b39311a36690",
      "080f0e9e20374c8b9d0772c207d40204",
      "443bc19134b346e282b58b81de72ee9b",
      "be2ab404919947b6bec6e47d8ef2293e",
      "d51c1aaaee7e40eb9a6946ee964f26db",
      "75a9df895ea94bb787ead957f9b540c9",
      "40781e910ad14961b70299654d08af57",
      "48f34dff73514ae58be4a78b897605de",
      "73155d071971464cac0ed23138cde635",
      "ad74039e867d489fbcc6c9d8ff34706c",
      "bde4879694234dc087cc6ef3a8f999e4",
      "86cdc4424b24473a8d571d2160ee7576",
      "9d5649b6391e44f5ad266c65fe71ec8e",
      "2dfa9272bd3a454582ebcd023d814301",
      "68fb67ba49274e2381586dfa12d4a00a",
      "de997021a80b4943b20c5518910ea387",
      "77a3b32f508c46f4a5bae2a29bbfc4f2",
      "5cdd60a9989c4e2fba367aa0fc23db04"
     ]
    },
    "colab_type": "code",
    "id": "q58IyfpGLyf4",
    "outputId": "73cb8853-c645-4bf7-d8e5-392613148c4a"
   },
   "outputs": [],
   "source": [
    "transform = transforms.Compose(\n",
    "    [transforms.ToTensor(),\n",
    "     transforms.Normalize((0.5,), (0.5,))])\n",
    "\n",
    "trainset = torchvision.datasets.MNIST(root='./data', train=True, download=True, transform=transform)\n",
    "\n",
    "trainloader = torch.utils.data.DataLoader(trainset, batch_size=4,\n",
    "                                          shuffle=True, num_workers=2)\n",
    "\n",
    "testset = torchvision.datasets.MNIST(root='./data', train=False,\n",
    "                                     download=True, transform=transform)\n",
    "\n",
    "testloader = torch.utils.data.DataLoader(testset, batch_size=4,\n",
    "                                         shuffle=False, num_workers=2)"
   ]
  },
  {
   "cell_type": "markdown",
   "metadata": {
    "colab_type": "text",
    "id": "n4iXn51ILygD"
   },
   "source": [
    "This is a utility function to visualize torch Tensors as images."
   ]
  },
  {
   "cell_type": "code",
   "execution_count": 5,
   "metadata": {
    "ExecuteTime": {
     "end_time": "2024-04-25T21:40:16.728315Z",
     "start_time": "2024-04-25T21:40:16.726504Z"
    },
    "colab": {},
    "colab_type": "code",
    "id": "3EkoFimALygG"
   },
   "outputs": [],
   "source": [
    "def imshow(img):\n",
    "    '''\n",
    "    Visualizes IMG.\n",
    "    IMG should be a 2D torch Tensor.\n",
    "    '''\n",
    "    img = img / 2 + 0.5  # unnormalize\n",
    "    npimg = img.detach().numpy()\n",
    "    plt.imshow(npimg, cmap='gray')\n",
    "\n"
   ]
  },
  {
   "cell_type": "markdown",
   "metadata": {
    "colab_type": "text",
    "id": "Iu56FwY-LBc9"
   },
   "source": [
    "## Primal Network"
   ]
  },
  {
   "cell_type": "markdown",
   "metadata": {
    "colab_type": "text",
    "id": "zAc2QEcALygQ"
   },
   "source": [
    "Here, we define the neural classifier we will be using. Note that the network comprises three layers. The first layer has dimension $28^2$ since this is the size of the input image. (The original inputs are square images, but we flatten them into a $28^2\\times 1$ vector in order to feed them into the network.) The output layer has dimension $10$, since there are ten possible output classes (the digits 0-9). The hidden layer has dimension $256$. (There isn't as much science behind choosing the dimensionality of input layers; we choose $256$ because it is a round number, and is hopefully enough to the neccesary encode information about the input image.)"
   ]
  },
  {
   "cell_type": "code",
   "execution_count": 6,
   "metadata": {
    "ExecuteTime": {
     "end_time": "2024-04-25T21:40:16.731873Z",
     "start_time": "2024-04-25T21:40:16.729280Z"
    },
    "colab": {
     "base_uri": "https://localhost:8080/",
     "height": 55
    },
    "colab_type": "code",
    "id": "6-joaa2DLygU",
    "outputId": "512b7136-2b3a-4487-837d-f8b3f554f582"
   },
   "outputs": [],
   "source": [
    "class Net(nn.Module):\n",
    "    def __init__(self):\n",
    "        super().__init__()\n",
    "\n",
    "        self.fc1 = nn.Linear(in_features=28 * 28, out_features=256)\n",
    "        self.fc2 = nn.Linear(in_features=256, out_features=10)\n",
    "        self.layers = [self.fc1, self.fc2]\n",
    "\n",
    "    # define forward function\n",
    "    def forward(self, t):\n",
    "        '''\n",
    "        On input T, performs a affine transformation, then\n",
    "        a ReLU, then another affine transformation.\n",
    "        '''\n",
    "        self.z = []\n",
    "        t = t.reshape(-1, 28 * 28)\n",
    "        t = self.fc1(t)\n",
    "        self.z.append(t)\n",
    "        t = F.relu(t)\n",
    "        t = self.fc2(t)\n",
    "        self.z.append(t)\n",
    "        return t"
   ]
  },
  {
   "cell_type": "markdown",
   "metadata": {
    "colab_type": "text",
    "id": "YTue7LMGLygd"
   },
   "source": [
    "Here is the training code, which uses Adam, a variant of gradient descent. The actual optimization machinery is all abstracted away behind the torch library; all the work is being done by the `optimizer.step()` call."
   ]
  },
  {
   "cell_type": "code",
   "execution_count": 7,
   "metadata": {
    "ExecuteTime": {
     "end_time": "2024-04-25T21:40:16.735551Z",
     "start_time": "2024-04-25T21:40:16.732684Z"
    },
    "colab": {},
    "colab_type": "code",
    "id": "4zdMiOXDLygf"
   },
   "outputs": [],
   "source": [
    "def train(net, criterion, trainloader, lr=0.001):\n",
    "    '''\n",
    "    Uses the Adam optimization algorithm to train \n",
    "    the classifier NET on training data from TRAINLOADER,\n",
    "    on loss function CRITERION, with learning rate LR.\n",
    "    \n",
    "    Note that we half the learning rate each epoch.\n",
    "    '''\n",
    "    optimizer = optim.Adam(net.parameters(), lr=lr)\n",
    "\n",
    "    for epoch in range(3):\n",
    "        for i, data in enumerate(trainloader, 0):\n",
    "            for param_group in optimizer.param_groups:\n",
    "                param_group['lr'] = lr * 0.5 ** (epoch)\n",
    "\n",
    "            inputs, labels = data[0].to(device), data[1].to(device)\n",
    "            optimizer.zero_grad()\n",
    "            outputs = net(inputs)\n",
    "            loss = criterion(outputs, labels)\n",
    "            loss.backward()\n",
    "            optimizer.step()\n",
    "\n",
    "            if i % 500 == 0:\n",
    "                print('Epoch', epoch, 'Iter:', i, 'Loss', loss.item())"
   ]
  },
  {
   "cell_type": "markdown",
   "metadata": {
    "colab_type": "text",
    "id": "zmx06HSLLyhh"
   },
   "source": [
    "We can now train the net on the training data, using cross entropy loss."
   ]
  },
  {
   "cell_type": "code",
   "execution_count": 8,
   "metadata": {
    "ExecuteTime": {
     "end_time": "2024-04-25T21:41:03.609731Z",
     "start_time": "2024-04-25T21:40:16.736083Z"
    },
    "colab": {
     "base_uri": "https://localhost:8080/",
     "height": 523
    },
    "colab_type": "code",
    "id": "W8pmvL6tLyhj",
    "outputId": "4d4e82cf-a525-485b-914c-d1afae757338"
   },
   "outputs": [
    {
     "name": "stdout",
     "output_type": "stream",
     "text": [
      "Epoch 0 Iter: 0 Loss 2.2840609550476074\n",
      "Epoch 0 Iter: 500 Loss 1.61262047290802\n",
      "Epoch 0 Iter: 1000 Loss 0.5724610686302185\n",
      "Epoch 0 Iter: 1500 Loss 0.22151653468608856\n",
      "Epoch 0 Iter: 2000 Loss 0.02501988597214222\n",
      "Epoch 0 Iter: 2500 Loss 0.8702024221420288\n",
      "Epoch 0 Iter: 3000 Loss 0.027415165677666664\n",
      "Epoch 0 Iter: 3500 Loss 0.0006498824805021286\n",
      "Epoch 0 Iter: 4000 Loss 0.04180004820227623\n",
      "Epoch 0 Iter: 4500 Loss 0.17643016576766968\n",
      "Epoch 0 Iter: 5000 Loss 0.07471296936273575\n",
      "Epoch 0 Iter: 5500 Loss 0.0075819226913154125\n",
      "Epoch 0 Iter: 6000 Loss 0.08275079727172852\n",
      "Epoch 0 Iter: 6500 Loss 0.3898911476135254\n",
      "Epoch 0 Iter: 7000 Loss 0.01277947798371315\n",
      "Epoch 0 Iter: 7500 Loss 0.02594732493162155\n",
      "Epoch 0 Iter: 8000 Loss 0.017828602343797684\n",
      "Epoch 0 Iter: 8500 Loss 0.5070363283157349\n",
      "Epoch 0 Iter: 9000 Loss 0.044467661529779434\n",
      "Epoch 0 Iter: 9500 Loss 0.9855311512947083\n",
      "Epoch 0 Iter: 10000 Loss 0.2685419023036957\n",
      "Epoch 0 Iter: 10500 Loss 0.15395855903625488\n",
      "Epoch 0 Iter: 11000 Loss 0.0037146771792322397\n",
      "Epoch 0 Iter: 11500 Loss 0.20467200875282288\n",
      "Epoch 0 Iter: 12000 Loss 0.6508505940437317\n",
      "Epoch 0 Iter: 12500 Loss 0.46690255403518677\n",
      "Epoch 0 Iter: 13000 Loss 1.1342052221298218\n",
      "Epoch 0 Iter: 13500 Loss 0.8935739398002625\n",
      "Epoch 0 Iter: 14000 Loss 0.06890852749347687\n",
      "Epoch 0 Iter: 14500 Loss 0.008309205994009972\n",
      "Epoch 1 Iter: 0 Loss 0.04515059292316437\n",
      "Epoch 1 Iter: 500 Loss 0.011106408201158047\n",
      "Epoch 1 Iter: 1000 Loss 0.013142799027264118\n",
      "Epoch 1 Iter: 1500 Loss 0.02355615794658661\n",
      "Epoch 1 Iter: 2000 Loss 0.00118547142483294\n",
      "Epoch 1 Iter: 2500 Loss 0.0020897844806313515\n",
      "Epoch 1 Iter: 3000 Loss 0.4896479547023773\n",
      "Epoch 1 Iter: 3500 Loss 0.05124235153198242\n",
      "Epoch 1 Iter: 4000 Loss 0.008919289335608482\n",
      "Epoch 1 Iter: 4500 Loss 0.06402705609798431\n",
      "Epoch 1 Iter: 5000 Loss 0.22950224578380585\n",
      "Epoch 1 Iter: 5500 Loss 0.008329533971846104\n",
      "Epoch 1 Iter: 6000 Loss 0.3297504782676697\n",
      "Epoch 1 Iter: 6500 Loss 1.1248079538345337\n",
      "Epoch 1 Iter: 7000 Loss 0.00010507225670153275\n",
      "Epoch 1 Iter: 7500 Loss 0.0024742037057876587\n",
      "Epoch 1 Iter: 8000 Loss 0.3352165222167969\n",
      "Epoch 1 Iter: 8500 Loss 0.5652325749397278\n",
      "Epoch 1 Iter: 9000 Loss 0.024685172364115715\n",
      "Epoch 1 Iter: 9500 Loss 0.06466903537511826\n",
      "Epoch 1 Iter: 10000 Loss 0.0002952117065433413\n",
      "Epoch 1 Iter: 10500 Loss 0.008479032665491104\n",
      "Epoch 1 Iter: 11000 Loss 0.05836019292473793\n",
      "Epoch 1 Iter: 11500 Loss 0.0029790655244141817\n",
      "Epoch 1 Iter: 12000 Loss 0.03746674209833145\n",
      "Epoch 1 Iter: 12500 Loss 0.00734751857817173\n",
      "Epoch 1 Iter: 13000 Loss 0.0032543297857046127\n",
      "Epoch 1 Iter: 13500 Loss 0.14630663394927979\n",
      "Epoch 1 Iter: 14000 Loss 0.027524450793862343\n",
      "Epoch 1 Iter: 14500 Loss 0.14194968342781067\n",
      "Epoch 2 Iter: 0 Loss 0.020380832254886627\n",
      "Epoch 2 Iter: 500 Loss 0.0004532060120254755\n",
      "Epoch 2 Iter: 1000 Loss 0.0017193588428199291\n",
      "Epoch 2 Iter: 1500 Loss 0.007466599810868502\n",
      "Epoch 2 Iter: 2000 Loss 4.240672569721937e-05\n",
      "Epoch 2 Iter: 2500 Loss 0.00757202273234725\n",
      "Epoch 2 Iter: 3000 Loss 0.0517234168946743\n",
      "Epoch 2 Iter: 3500 Loss 0.4916069507598877\n",
      "Epoch 2 Iter: 4000 Loss 0.0038219308480620384\n",
      "Epoch 2 Iter: 4500 Loss 0.00013850658433511853\n",
      "Epoch 2 Iter: 5000 Loss 0.16432346403598785\n",
      "Epoch 2 Iter: 5500 Loss 0.008567163720726967\n",
      "Epoch 2 Iter: 6000 Loss 0.019674845039844513\n",
      "Epoch 2 Iter: 6500 Loss 0.024645265191793442\n",
      "Epoch 2 Iter: 7000 Loss 0.007754813879728317\n",
      "Epoch 2 Iter: 7500 Loss 0.00014195733820088208\n",
      "Epoch 2 Iter: 8000 Loss 2.884775858547073e-05\n",
      "Epoch 2 Iter: 8500 Loss 0.00846563745290041\n",
      "Epoch 2 Iter: 9000 Loss 0.0028102912474423647\n",
      "Epoch 2 Iter: 9500 Loss 0.006102133542299271\n",
      "Epoch 2 Iter: 10000 Loss 0.000114178161311429\n",
      "Epoch 2 Iter: 10500 Loss 0.015616227872669697\n",
      "Epoch 2 Iter: 11000 Loss 0.00016215044888667762\n",
      "Epoch 2 Iter: 11500 Loss 0.0007789807859808207\n",
      "Epoch 2 Iter: 12000 Loss 0.003911782521754503\n",
      "Epoch 2 Iter: 12500 Loss 0.0005302864010445774\n",
      "Epoch 2 Iter: 13000 Loss 0.1735452115535736\n",
      "Epoch 2 Iter: 13500 Loss 0.004945403430610895\n",
      "Epoch 2 Iter: 14000 Loss 0.0011070690816268325\n",
      "Epoch 2 Iter: 14500 Loss 0.4557968080043793\n"
     ]
    }
   ],
   "source": [
    "net = Net()\n",
    "net.to(device)\n",
    "\n",
    "criterion = nn.CrossEntropyLoss()\n",
    "\n",
    "train(net, criterion, trainloader, 0.001)"
   ]
  },
  {
   "cell_type": "markdown",
   "metadata": {
    "colab_type": "text",
    "id": "12zEbgnwLBdg"
   },
   "source": [
    "Let's load a sample image from the test dataset, and see what the classifier makes of it. Make sure to visualize the image using `imshow(x[0,0])`. Also, note that the line `test_iter.next()` pulls a new input image from the test set each time you run it; try running the next code block a few times to get a sense of what the MNIST dataset looks like, and how the classifier performs on it."
   ]
  },
  {
   "cell_type": "code",
   "execution_count": 9,
   "metadata": {
    "ExecuteTime": {
     "end_time": "2024-04-25T21:41:03.629723Z",
     "start_time": "2024-04-25T21:41:03.610820Z"
    },
    "colab": {},
    "colab_type": "code",
    "id": "NFBwByD1LBdi"
   },
   "outputs": [],
   "source": [
    "test_iter = iter(testloader)"
   ]
  },
  {
   "cell_type": "code",
   "execution_count": 10,
   "metadata": {
    "ExecuteTime": {
     "end_time": "2024-04-25T21:41:04.870033Z",
     "start_time": "2024-04-25T21:41:03.631137Z"
    },
    "colab": {
     "base_uri": "https://localhost:8080/",
     "height": 322
    },
    "colab_type": "code",
    "id": "sB_m2TzpONdu",
    "outputId": "f09820e2-65df-4c6e-80fe-32432bd510b4"
   },
   "outputs": [
    {
     "name": "stdout",
     "output_type": "stream",
     "text": [
      "Classifier output: tensor([[-10.6370, -13.6783,  -2.7499,  -2.5948, -21.5961,  -7.1466, -22.6579,\n",
      "           8.7805,  -6.3338,  -3.3482]])\n",
      "Classifier prediction: 7\n"
     ]
    },
    {
     "data": {
      "image/png": "[encoded data removed]",
      "text/plain": [
       "<Figure size 640x480 with 1 Axes>"
      ]
     },
     "metadata": {},
     "output_type": "display_data"
    }
   ],
   "source": [
    "x, labels = next(test_iter)\n",
    "x = x[0].unsqueeze(0)\n",
    "labels = labels[0].unsqueeze(0)\n",
    "\n",
    "x = x.to(device)\n",
    "labels = labels.to(device)\n",
    "\n",
    "out = net(x).data\n",
    "print('Classifier output:', out)\n",
    "print('Classifier prediction:', torch.argmax(out).item())\n",
    "imshow(x[0, 0])\n"
   ]
  },
  {
   "cell_type": "markdown",
   "metadata": {
    "colab_type": "text",
    "id": "b6nekayzLygn"
   },
   "source": [
    "We can also measure the classifier's accuracy on the full test dataset. This function takes in a classifier we have trained and the loader for the test set, and outputs the classifier's accuracy. The accuracy is simply\n",
    "$$ \\dfrac{\\text{# correct}}{\\text{# total}}.$$"
   ]
  },
  {
   "cell_type": "code",
   "execution_count": 11,
   "metadata": {
    "ExecuteTime": {
     "end_time": "2024-04-25T21:41:04.965768Z",
     "start_time": "2024-04-25T21:41:04.959258Z"
    },
    "colab": {},
    "colab_type": "code",
    "id": "Lk4pq6hiLygr"
   },
   "outputs": [],
   "source": [
    "def accuracy(net, testloader):\n",
    "    '''\n",
    "    Returns the accuracy of classifier NET\n",
    "    on test data from TESTLOADER.\n",
    "    '''\n",
    "    correct = 0\n",
    "    total = 0\n",
    "    with torch.no_grad():\n",
    "        for data in testloader:\n",
    "            images, labels = data[0].to(device), data[1].to(device)\n",
    "            outputs = net(images)\n",
    "            _, predicted = torch.max(outputs.data, 1)\n",
    "            total += labels.size(0)\n",
    "            correct += (predicted == labels).sum().item()\n",
    "\n",
    "    return correct / total"
   ]
  },
  {
   "cell_type": "code",
   "execution_count": 12,
   "metadata": {
    "ExecuteTime": {
     "end_time": "2024-04-25T21:41:06.927555Z",
     "start_time": "2024-04-25T21:41:04.967415Z"
    },
    "colab": {
     "base_uri": "https://localhost:8080/",
     "height": 36
    },
    "colab_type": "code",
    "id": "kXpxjHkqLBd8",
    "outputId": "96b7766c-7368-4df9-dc0e-bc1c55b03d67"
   },
   "outputs": [
    {
     "name": "stdout",
     "output_type": "stream",
     "text": [
      "Classifier accuracy on original test dataset: 0.9704\n"
     ]
    }
   ],
   "source": [
    "print('Classifier accuracy on original test dataset:', accuracy(net, testloader))"
   ]
  },
  {
   "cell_type": "markdown",
   "metadata": {
    "colab_type": "text",
    "id": "rrvBEzmZLBeD"
   },
   "source": [
    "## Fast Gradient Sign Method"
   ]
  },
  {
   "cell_type": "markdown",
   "metadata": {
    "colab_type": "text",
    "id": "p5ZlWjqILygz"
   },
   "source": [
    "Here, we implement the Fast Gradient Sign Method, which takes in a batch of input images, their labels, a trained classifier, and the epsilon radius within which the perturbation should lie. This function should output the input image perturbed in the direction of the sign of the gradient with respect to the classifier's loss.\n",
    "\n",
    "(Note that the output is not guaranteed to lie in the valid range for images, since here pixel values must be in $[-1,1]$. You should use `torch.clamp` to fix the FGSM output to lie in the correct range.)"
   ]
  },
  {
   "cell_type": "code",
   "execution_count": 13,
   "metadata": {
    "ExecuteTime": {
     "end_time": "2024-04-25T21:41:06.933368Z",
     "start_time": "2024-04-25T21:41:06.929438Z"
    },
    "colab": {},
    "colab_type": "code",
    "id": "CaSK1tjSLyg2"
   },
   "outputs": [],
   "source": [
    "def FGSM(x, labels, net, eps):\n",
    "    '''\n",
    "    Given an input image X and its corresponding labels\n",
    "    LABELS, as well as a classifier NET, returns X\n",
    "    perturbed by EPS using the fast gradient sign method.\n",
    "    '''\n",
    "    net.zero_grad()  # Zero out any gradients from before\n",
    "    x.requires_grad = True  # Keep track of gradients\n",
    "    out = net(x)  # Output of classifier\n",
    "    criterion = nn.CrossEntropyLoss()\n",
    "    loss = criterion(out, labels)  # Classifier's loss\n",
    "    loss.backward()\n",
    "    grads = x.grad.data  # Gradient of loss w/r/t input\n",
    "    return torch.clamp(x + eps * (grads / torch.abs(grads)), -1, 1)"
   ]
  },
  {
   "cell_type": "markdown",
   "metadata": {
    "colab_type": "text",
    "id": "AB8K0vMsLBeU"
   },
   "source": [
    "Let's see how well the classifier does when the input is adversarially perturbed using FGSM. Try this for $\\varepsilon\\in\\{0.05, 0.1,0.2,0.3, 0.4\\}$, and again remember to visualize the inputs with `imshow`."
   ]
  },
  {
   "cell_type": "code",
   "execution_count": 14,
   "metadata": {
    "ExecuteTime": {
     "end_time": "2024-04-25T21:41:06.936049Z",
     "start_time": "2024-04-25T21:41:06.934028Z"
    }
   },
   "outputs": [],
   "source": [
    "eps = 0.2  # TODO: Try eps = 0.05, 0.1, 0.2, 0.3, 0.4"
   ]
  },
  {
   "cell_type": "code",
   "execution_count": 15,
   "metadata": {
    "ExecuteTime": {
     "end_time": "2024-04-25T21:41:07.089130Z",
     "start_time": "2024-04-25T21:41:06.936791Z"
    },
    "colab": {
     "base_uri": "https://localhost:8080/",
     "height": 322
    },
    "colab_type": "code",
    "id": "dbS2KvG6Lyh6",
    "outputId": "da1fe90b-4789-416b-f26c-2e950e9c33ad"
   },
   "outputs": [
    {
     "name": "stdout",
     "output_type": "stream",
     "text": [
      "Classifier output: tensor([[-5.6209e+00, -7.3935e+00, -8.9144e-01, -1.2919e-02, -1.3480e+01,\n",
      "         -5.1821e+00, -1.4577e+01,  3.4709e+00, -9.6726e-01, -1.1379e+00]])\n",
      "Classifier prediction: 7\n"
     ]
    },
    {
     "data": {
      "image/png": "[encoded data removed]",
      "text/plain": [
       "<Figure size 640x480 with 1 Axes>"
      ]
     },
     "metadata": {},
     "output_type": "display_data"
    }
   ],
   "source": [
    "# We are using the same sample input x as before.\n",
    "x.requires_grad = True\n",
    "x_prime = FGSM(x, labels, net, eps)\n",
    "imshow(x_prime[0, 0].cpu())\n",
    "out = net(x_prime)\n",
    "\n",
    "print('Classifier output:', out.data)\n",
    "print('Classifier prediction:', torch.argmax(out).item())"
   ]
  },
  {
   "cell_type": "markdown",
   "metadata": {
    "colab_type": "text",
    "id": "64qakoWaLBec"
   },
   "source": [
    "We should evaluate the classifier's performance on FGSM-perturbed data by the same metric that we will later use in the primal adversarial problem. That is, for the classifier's output vector $\\vec{\\hat{z}}_3$, we want to compute\n",
    "$$\n",
    "\\vec{c}_j^\\top \\vec{\\hat{z}}_3\n",
    "$$\n",
    "where\n",
    "$$\\vec{c}_j={\\vec{y}_{\\text{true}}}-\\vec{e}_{j}$$\n",
    "for each $j\\in[10]$.\n",
    "\n",
    "Recall that \n",
    "$$\\vec{c}_j^\\top \\vec{\\hat{z}}_3=\\vec{\\hat{z}}_{3i_{\\text{true}}}-\\vec{\\hat{z}}_{3j},$$\n",
    "i.e. $\\vec{c}_j^\\top \\vec{\\hat{z}}_3$ is the difference between the classifier's confidence on the true class and the $j$th (incorrect) class. If $\\vec{c}_j^\\top \\vec{\\hat{z}}_3$ is positive for all incorrect $j$, then the classifier was not fooled by the adversarial perturbation."
   ]
  },
  {
   "cell_type": "code",
   "execution_count": 16,
   "metadata": {
    "ExecuteTime": {
     "end_time": "2024-04-25T21:41:07.096889Z",
     "start_time": "2024-04-25T21:41:07.091420Z"
    },
    "colab": {
     "base_uri": "https://localhost:8080/",
     "height": 187
    },
    "colab_type": "code",
    "id": "qpFjSe3ULBee",
    "outputId": "6256f017-d100-4f24-b932-ea6c67b8710e"
   },
   "outputs": [
    {
     "name": "stdout",
     "output_type": "stream",
     "text": [
      "0 9.091835021972656\n",
      "1 10.864462852478027\n",
      "2 4.362381935119629\n",
      "3 3.4838595390319824\n",
      "4 16.950908660888672\n",
      "5 8.653022766113281\n",
      "6 18.047588348388672\n",
      "8 4.438200950622559\n",
      "9 4.608835697174072\n"
     ]
    }
   ],
   "source": [
    "for i in range(10):\n",
    "    c = torch.zeros(10, 1).to(device)\n",
    "    if i != labels:\n",
    "        c[i] = -1\n",
    "        c[labels] = 1\n",
    "        print(i, (out @ c).item())\n",
    "# TODO: Finish following question"
   ]
  },
  {
   "cell_type": "markdown",
   "metadata": {
    "colab_type": "text",
    "id": "q4JTyFqQLBeo"
   },
   "source": [
    "**Q: What do the $\\vec{c}_j^\\top \\vec{\\hat{z}}_3$ scores tell you about the robustness of the classifier to different values of epsilon? For a given input digit, which output categories have higher/lower scores? Why?**\n",
    "\n",
    "A: Your answer here "
   ]
  },
  {
   "cell_type": "markdown",
   "metadata": {
    "colab_type": "text",
    "id": "LaGNmioNLyg_"
   },
   "source": [
    "Now that FGSM is defined, we can also measure a classifier's accuracy on a dataset where each input has been adversarially perturbed. That is, for each point in the original test dataset, we first perturb it using FGSM before feeding it to the classifier."
   ]
  },
  {
   "cell_type": "code",
   "execution_count": 17,
   "metadata": {
    "ExecuteTime": {
     "end_time": "2024-04-25T21:41:07.106045Z",
     "start_time": "2024-04-25T21:41:07.098335Z"
    },
    "colab": {},
    "colab_type": "code",
    "id": "ik9xXp3hLyhB"
   },
   "outputs": [],
   "source": [
    "def accuracy_on_FGSM(net, testloader, eps):\n",
    "    '''\n",
    "    Returns the accuracy of classifier NET on test\n",
    "    data from TESTLOADER that has been perturbed by\n",
    "    EPS using FSGM.\n",
    "    '''\n",
    "    correct = 0\n",
    "    total = 0\n",
    "    for data in testloader:\n",
    "        x, labels = data[0].to(device), data[1].to(device)\n",
    "        x_prime = FGSM(x, labels, net, eps)\n",
    "        outputs = net(x_prime)\n",
    "        _, predicted = torch.max(outputs.data, 1)\n",
    "        total += labels.size(0)\n",
    "        correct += (predicted == labels).sum().item()\n",
    "\n",
    "    return correct / total"
   ]
  },
  {
   "cell_type": "code",
   "execution_count": 18,
   "metadata": {
    "ExecuteTime": {
     "end_time": "2024-04-25T21:41:09.639355Z",
     "start_time": "2024-04-25T21:41:07.107425Z"
    },
    "colab": {
     "base_uri": "https://localhost:8080/",
     "height": 36
    },
    "colab_type": "code",
    "id": "PDD_z76ALBew",
    "outputId": "01ccf72d-1bab-4ce7-ab00-d202779e0937"
   },
   "outputs": [
    {
     "name": "stdout",
     "output_type": "stream",
     "text": [
      "Classifier accuracy on test dataset perturbed with FGSM: 0.5147\n"
     ]
    }
   ],
   "source": [
    "print('Classifier accuracy on test dataset perturbed with FGSM:', accuracy_on_FGSM(net, testloader, eps))"
   ]
  },
  {
   "cell_type": "markdown",
   "metadata": {
    "colab_type": "text",
    "id": "Dj-7r-oqLBe1"
   },
   "source": [
    "**Q: How does the classifier accuracy on data perturbed by FGSM compare to that on the original test dataset? How does this vary with epsilon?**\n",
    "\n",
    "A: Your answer here."
   ]
  },
  {
   "cell_type": "markdown",
   "metadata": {
    "colab_type": "text",
    "id": "jDwEDxf9LBe7"
   },
   "source": [
    "## Dual Network"
   ]
  },
  {
   "cell_type": "markdown",
   "metadata": {},
   "source": [
    "Here, we will implement the dual network. First, we write the function to compute upper and lower bounds for the dual network. This function should take an input image, the trained classifier, and an epsilon value, and return the tuple\n",
    "$$(\\vec{l},\\vec{u},S,S^-,S^+)$$\n",
    "where $\\vec{u}$ and $\\vec{l}$ are the upper and lower bounds, respectively, for the input to the ReLU layer, and $S^-,S^+,S$ are sets defined by\n",
    "\n",
    "$$\n",
    "\\begin{aligned}\n",
    "&S:=\\{j\\in [n_2]\\mid l_{j}\\leq 0\\leq u_{j}\\}\\\\\n",
    "&S^{-}:=\\{j\\in [n_2]\\mid l_{j}\\leq u_{j}\\leq 0\\}\\\\\n",
    "&S^{+}:=\\{j\\in [n_2]\\mid 0\\leq l_{j}\\leq u_{j}\\}.\n",
    "\\end{aligned}\n",
    "$$\n",
    "See Section 6 of the PDF for more details."
   ]
  },
  {
   "cell_type": "code",
   "execution_count": 1,
   "metadata": {
    "ExecuteTime": {
     "end_time": "2024-04-25T21:40:08.219767Z",
     "start_time": "2024-04-25T21:40:08.214936Z"
    },
    "colab": {},
    "colab_type": "code",
    "id": "_0QHBHTHLyhO"
   },
   "outputs": [],
   "source": [
    "def dual_bounds(x, net, eps):\n",
    "    '''\n",
    "    Given a classifier NET, an input image X,\n",
    "    and the epsilon parameter EPS, returns the lower\n",
    "    and upper bounds L and U respectively, as well as\n",
    "    the corresponding sets S, S_MIN, S_PLUS.\n",
    "    '''\n",
    "    x = x[0].reshape(-1, 1)  # Reshape input to more convenient dimensions\n",
    "    W = [layer.weight for layer in net.layers]  # Array of network weights (W matrices)\n",
    "    b = [layer.bias.reshape(-1, 1) for layer in net.layers]  # Array of network biases (b vectors)\n",
    "    n = W[1].shape[1]  # Dimensionality of hidden layer\n",
    "    W_ = torch.norm(W[0], dim=1, p=1).reshape(-1, 1)  # L1 norm of W_1\n",
    "    u = W[0] @ x + b[0] + eps * W_  # TODO\n",
    "    l = W[0] @ x + b[0] - eps * W_  # TODO\n",
    "    S = torch.where((l <= 0) & (u >= 0))[0]  # TODO\n",
    "    S_plus = torch.where((l <= u) & (0 <= l))[0]  # TODO\n",
    "    S_min = torch.where((l <= u) & (u <= 0))[0]  # TODO\n",
    "    return l, u, S, S_min, S_plus"
   ]
  },
  {
   "cell_type": "markdown",
   "metadata": {
    "colab_type": "text",
    "id": "VaMhcqTvLyhX"
   },
   "source": [
    "Given the tuple $(l,u,S,S^-,S^+)$, we are ready to calculate the dual objective itself. This function should take in an input image, the classifier, a vector $c$, and the $(l,u,S,S^-,S^+)$ from the previous function in order to output \n",
    "\n",
    "$$\n",
    "d^*(\\vec{x},\\vec{c})= \n",
    "-\\vec{\\hat{\\nu}}_1^\\top \\vec{x}-\\varepsilon\\|\\vec{\\hat{\\nu}}_1\\|_1-\\sum_{i=1}^{2}\\vec{\\nu}_{i+1}^\\top \\vec{b}_i+\\sum_{j\\in S\\\n",
    "}l_{j}\\text{ReLU}(\\nu_{2j})\n",
    "$$\n",
    "\n",
    "Where the $\\vec{\\nu}$ vectors are computed as\n",
    "\n",
    "$$\n",
    "\\begin{aligned}\n",
    "&\\vec{\\nu}_3=-\\vec{c}\\\\\n",
    "&\\vec{\\hat{\\nu}}_2=W_2^\\top \\vec{\\nu}_{3}\\\\\n",
    "&\\nu_{2j}=0 && \\forall j\\in S^-\\\\\n",
    "&\\nu_{2j}=\\hat{\\nu}_{2j} && \\forall j\\in S^+\\\\\n",
    "&\\nu_{2j}=\\dfrac{u_{j}}{u_{j}-l_{j}}\\hat{\\nu}_{2j} && \\forall j\\in S\\\\\n",
    "&\\vec{\\hat{\\nu}}_1=W_1^\\top \\vec{\\nu_{2}}\n",
    "&\\end{aligned}.\n",
    "$$\n",
    "\n",
    "Again, see Section 6 of the PDF for more details.\n",
    "\n",
    "One efficient way to compute $\\vec{\\nu}_2$ is to rewrite it as\n",
    "$$\\vec{\\nu}_2= D\\vec{\\hat{\\nu}}_2,$$\n",
    "where $D$ is a diagonal matrix defined  by\n",
    "$$\n",
    "D_{jj}=\\begin{cases}\n",
    "0 & j\\in S^-\\\\\n",
    "\\hat{\\nu}_{2j} & j\\in S^+\\\\\n",
    "\\dfrac{u_{j}}{u_{j}-l_{j}}\\hat{\\nu}_{2j} & j\\in S.\n",
    "\\end{cases}\n",
    "$$"
   ]
  },
  {
   "cell_type": "code",
   "metadata": {
    "colab": {},
    "colab_type": "code",
    "id": "chl5lue0Lyha",
    "ExecuteTime": {
     "end_time": "2024-04-25T22:07:43.079539Z",
     "start_time": "2024-04-25T22:07:43.074663Z"
    }
   },
   "source": [
    "# Constructs the diagonal D matrix from the S sets, n (the dimensionality\n",
    "# of the hidden layer), u, and l.\n",
    "def StoD(S_min, S_plus, S, n, u, l):\n",
    "    '''\n",
    "    Given upper and lower bounds U and L, as well\n",
    "    as the corresponding sets S_MIN, S_PLUS, and S,\n",
    "    as well as the dimension of the hidden layer N,\n",
    "    returns the corresponding diagonal matrix D.\n",
    "    '''\n",
    "    d = []\n",
    "    for j in range(n):\n",
    "        if j in S:\n",
    "            d.append((u[j] / (u[j] - l[j])).item())\n",
    "        elif j in S_plus:\n",
    "            d.append(1)\n",
    "        elif j in S_min:\n",
    "            d.append(0)\n",
    "        else:\n",
    "            assert False, 'StoD error.'\n",
    "    return torch.diag(torch.Tensor(d)).to(device)\n",
    "\n",
    "\n",
    "def dual_forward(x, net, c, eps, l, u, S, S_min, S_plus):\n",
    "    '''\n",
    "    Calculates the dual objective for classifier NET with input X\n",
    "    and dual input C and epsilon parameter S. Depends on lower\n",
    "    and upper bounds L and U, as well as the corresponding sets\n",
    "    S, S_MIN, S_PLUS.\n",
    "    '''\n",
    "    x = x[0].reshape(-1, 1)  # Reshape input to more convenient dimensions\n",
    "    W = [layer.weight for layer in net.layers]  # Array of network weights (W matrices)\n",
    "    b = [layer.bias.reshape(-1, 1) for layer in net.layers]  # Array of network biases (b vectors)\n",
    "    n = W[1].shape[1]  # Dimensionality of hidden layer\n",
    "    D = StoD(S_min, S_plus, S, n, u, l)\n",
    "    # TODO: Your code here!\n",
    "    transpose = lambda w: torch.transpose(w, 0, 1)\n",
    "    v_3 = -c\n",
    "    v_2_hat = transpose(W[1]) @ v_3\n",
    "    v_2 = D @ v_2_hat\n",
    "    v_1_hat = transpose(W[0]) @ v_2\n",
    "    last_sum_term = torch.sum(l[S] * F.relu(v_2[S]))\n",
    "    return -transpose(v_1_hat) @ x - eps * torch.norm(v_1_hat, p=1) - transpose(v_2) @ b[0] - transpose(v_3) @ b[\n",
    "        1] + last_sum_term"
   ],
   "outputs": [],
   "execution_count": 21
  },
  {
   "cell_type": "markdown",
   "metadata": {
    "colab_type": "text",
    "id": "HagySRiNLyhu"
   },
   "source": [
    "Now, we can use the dual network to check the robustness of the network we just trained on sample input images. We can do this for \n",
    "$$\\vec{c}_j={\\vec{y}_{\\text{true}}}-\\vec{e}_{j}$$\n",
    "for each $j\\in[10]$.\n",
    "\n",
    "The output is a vector where the $j$th element is the difference between the model's confidence in the true class and the $j$th class; if $d^*(\\vec{x},\\vec{c}_j)$ is nonnegative for every $j\\in[10]$, then we know the model is robust to perturbations of size $\\varepsilon$. See Section 8 of the PDF for more details.\n",
    "\n",
    "Try running the following block of code for different values of $\\varepsilon\\in\\{0.05, 0.1, 0.2, 0.3, 0.4\\}$, and compare the robustness guarantees here with the classifier's performance on the FGSM data from before."
   ]
  },
  {
   "cell_type": "code",
   "metadata": {
    "ExecuteTime": {
     "end_time": "2024-04-25T22:07:44.978804Z",
     "start_time": "2024-04-25T22:07:44.976861Z"
    }
   },
   "source": [
    "eps = 0.05  # TODO: Try eps = 0.05, 0.1, 0.2, 0.3, 0.4"
   ],
   "outputs": [],
   "execution_count": 22
  },
  {
   "cell_type": "code",
   "metadata": {
    "colab": {
     "base_uri": "https://localhost:8080/",
     "height": 187
    },
    "colab_type": "code",
    "id": "WY6TfL2GLyhw",
    "outputId": "41886f00-c9f7-4f6d-b227-1bb5fe647a19",
    "ExecuteTime": {
     "end_time": "2024-04-25T22:07:46.546891Z",
     "start_time": "2024-04-25T22:07:46.520397Z"
    }
   },
   "source": [
    "# We are still using the same sample input x as before.\n",
    "l, u, S, S_min, S_plus = dual_bounds(x, net, eps)\n",
    "\n",
    "# Here, we loop through each column c_j defined above, and output the \n",
    "# objective value for the dual function with input c.\n",
    "for i in range(10):\n",
    "    c = torch.zeros(10, 1).to(device)\n",
    "    if i != labels:\n",
    "        c[i] = -1\n",
    "        c[labels] = 1\n",
    "        print(i, dual_forward(x, net, c, 0.1, l, u, S, S_min, S_plus).item())"
   ],
   "outputs": [
    {
     "name": "stdout",
     "output_type": "stream",
     "text": [
      "0 7.987174987792969\n",
      "1 11.30894660949707\n",
      "2 3.123565196990967\n",
      "3 2.708284854888916\n",
      "4 14.438139915466309\n",
      "5 5.430879592895508\n",
      "6 16.634370803833008\n",
      "8 3.7897722721099854\n",
      "9 2.8588857650756836\n"
     ]
    }
   ],
   "execution_count": 23
  },
  {
   "cell_type": "markdown",
   "metadata": {
    "colab_type": "text",
    "id": "v--Zs9ELLyiB"
   },
   "source": [
    "**Q: What do the dual network outputs tell you about the robustness of the classifier? How does this compare to the classifier's performance (in particular, the $\\vec{c}_j^\\top \\vec{\\hat{z}}_3$ scores) on FGSM outputs? How does your answer change with epsilon?**\n",
    "\n",
    "A: Your answer here"
   ]
  },
  {
   "cell_type": "markdown",
   "metadata": {
    "colab_type": "text",
    "id": "dr3xSI7EMv4l"
   },
   "source": [
    "**Q: Suppose you have a deep neural classifier that you want to defend against adversarial attacks. That is, you want to detect and discard any input images that were possibly adversarially perturbed. How might you do this with the robustness certificate you have implemented?**\n",
    "\n",
    "A: Your answer here"
   ]
  },
  {
   "cell_type": "markdown",
   "metadata": {
    "colab_type": "text",
    "id": "s--Ae8VpLyiN"
   },
   "source": [
    "## Robust training"
   ]
  },
  {
   "cell_type": "markdown",
   "metadata": {
    "colab_type": "text",
    "id": "LohSkAUMLBfa"
   },
   "source": [
    "The following function should implement the robust loss from the PDF. This loss is an upper bound on the worst-case loss within an $\\epsilon$ ball of the original training input. Thus, training using this new loss should result in a classifier that is more robust than one trained on the original cross-entropy loss.\n",
    "\n",
    "There are no mandatory questions here, but feel free to experiment with this robust training, and compare the performance here (measured by the dual objective certificate, as well as original/FGSM accuracy) to that of the original. You can also try training a model using the original loss first, then fine-tuning with the robust loss."
   ]
  },
  {
   "cell_type": "code",
   "metadata": {
    "colab": {},
    "colab_type": "code",
    "id": "uTv9zjuqLyiQ",
    "ExecuteTime": {
     "end_time": "2024-04-25T22:10:29.536206Z",
     "start_time": "2024-04-25T22:10:29.534033Z"
    }
   },
   "source": [
    "def robust_loss(x, label, net, eps, criterion):\n",
    "    '''\n",
    "    Given a batch of input images X, its corresponding lables LABEL,\n",
    "    the classifier NET, epsilon value EPS, and original loss\n",
    "    function CRITERION, returns the robust loss of NET w/r/t\n",
    "    the original loss function, on the input image.\n",
    "    '''\n",
    "    l, u, S, S_min, S_plus = dual_bounds(x, net, eps)\n",
    "    # We assume there are 10 classes.\n",
    "    e_y = torch.zeros(10, 1)\n",
    "    e_y[label] = 1\n",
    "    c = e_y @ torch.ones(1, 10) - torch.eye(10)\n",
    "    J = dual_forward(x, net, c, eps, l, u, S, S_min, S_plus).unsqueeze(0)\n",
    "    return criterion(-J, label.unsqueeze(0))"
   ],
   "outputs": [],
   "execution_count": 24
  },
  {
   "cell_type": "code",
   "metadata": {
    "colab": {},
    "colab_type": "code",
    "id": "Nj_VkNaNLyiY",
    "ExecuteTime": {
     "end_time": "2024-04-25T22:10:31.577573Z",
     "start_time": "2024-04-25T22:10:31.574864Z"
    }
   },
   "source": [
    "def robust_train(net, criterion, trainloader, eps, lr=0.001):\n",
    "    '''\n",
    "    Trains the classifier NET using the robust version\n",
    "    of the original loss function CRITERION with paramater EPS,\n",
    "    using training data from TRAINLOADER and with learning rate LR.\n",
    "    \n",
    "    Note that we half the learning rate each epoch.\n",
    "    '''\n",
    "    optimizer = optim.Adam(net.parameters(), lr=lr)\n",
    "\n",
    "    for epoch in range(3):\n",
    "        for i, data in enumerate(trainloader, 0):\n",
    "            for param_group in optimizer.param_groups:\n",
    "                param_group['lr'] = lr * 0.5 ** (epoch)\n",
    "\n",
    "            inputs, labels = data\n",
    "            optimizer.zero_grad()\n",
    "            loss = 0\n",
    "            for i in range(inputs.shape[0]):\n",
    "                x = inputs[i].unsqueeze(0)\n",
    "                label = labels[i].unsqueeze(0)\n",
    "                loss += robust_loss(x, label, net, eps, criterion)\n",
    "            loss.backward()\n",
    "            optimizer.step()\n",
    "\n",
    "            if i % 500 == 0:\n",
    "                print('Epoch', epoch, 'Iter:', i, 'Loss', loss.item())"
   ],
   "outputs": [],
   "execution_count": 25
  }
 ],
 "metadata": {
  "accelerator": "GPU",
  "colab": {
   "collapsed_sections": [],
   "name": "torch_impl_sol.ipynb",
   "provenance": []
  },
  "kernelspec": {
   "display_name": "Python 3 (ipykernel)",
   "language": "python",
   "name": "python3"
  },
  "language_info": {
   "codemirror_mode": {
    "name": "ipython",
    "version": 3
   },
   "file_extension": ".py",
   "mimetype": "text/x-python",
   "name": "python",
   "nbconvert_exporter": "python",
   "pygments_lexer": "ipython3",
   "version": "3.12.2"
  },
  "widgets": {
   "application/vnd.jupyter.widget-state+json": {
    "080f0e9e20374c8b9d0772c207d40204": {
     "model_module": "@jupyter-widgets/base",
     "model_name": "LayoutModel",
     "state": {
      "_model_module": "@jupyter-widgets/base",
      "_model_module_version": "1.2.0",
      "_model_name": "LayoutModel",
      "_view_count": null,
      "_view_module": "@jupyter-widgets/base",
      "_view_module_version": "1.2.0",
      "_view_name": "LayoutView",
      "align_content": null,
      "align_items": null,
      "align_self": null,
      "border": null,
      "bottom": null,
      "display": null,
      "flex": null,
      "flex_flow": null,
      "grid_area": null,
      "grid_auto_columns": null,
      "grid_auto_flow": null,
      "grid_auto_rows": null,
      "grid_column": null,
      "grid_gap": null,
      "grid_row": null,
      "grid_template_areas": null,
      "grid_template_columns": null,
      "grid_template_rows": null,
      "height": null,
      "justify_content": null,
      "justify_items": null,
      "left": null,
      "margin": null,
      "max_height": null,
      "max_width": null,
      "min_height": null,
      "min_width": null,
      "object_fit": null,
      "object_position": null,
      "order": null,
      "overflow": null,
      "overflow_x": null,
      "overflow_y": null,
      "padding": null,
      "right": null,
      "top": null,
      "visibility": null,
      "width": null
     }
    },
    "0d2ab5e4e4634c2d84445dcb59e63093": {
     "model_module": "@jupyter-widgets/controls",
     "model_name": "ProgressStyleModel",
     "state": {
      "_model_module": "@jupyter-widgets/controls",
      "_model_module_version": "1.5.0",
      "_model_name": "ProgressStyleModel",
      "_view_count": null,
      "_view_module": "@jupyter-widgets/base",
      "_view_module_version": "1.2.0",
      "_view_name": "StyleView",
      "bar_color": null,
      "description_width": "initial"
     }
    },
    "0ffb65b8fcd64017a1575ef5c6fb6783": {
     "model_module": "@jupyter-widgets/base",
     "model_name": "LayoutModel",
     "state": {
      "_model_module": "@jupyter-widgets/base",
      "_model_module_version": "1.2.0",
      "_model_name": "LayoutModel",
      "_view_count": null,
      "_view_module": "@jupyter-widgets/base",
      "_view_module_version": "1.2.0",
      "_view_name": "LayoutView",
      "align_content": null,
      "align_items": null,
      "align_self": null,
      "border": null,
      "bottom": null,
      "display": null,
      "flex": null,
      "flex_flow": null,
      "grid_area": null,
      "grid_auto_columns": null,
      "grid_auto_flow": null,
      "grid_auto_rows": null,
      "grid_column": null,
      "grid_gap": null,
      "grid_row": null,
      "grid_template_areas": null,
      "grid_template_columns": null,
      "grid_template_rows": null,
      "height": null,
      "justify_content": null,
      "justify_items": null,
      "left": null,
      "margin": null,
      "max_height": null,
      "max_width": null,
      "min_height": null,
      "min_width": null,
      "object_fit": null,
      "object_position": null,
      "order": null,
      "overflow": null,
      "overflow_x": null,
      "overflow_y": null,
      "padding": null,
      "right": null,
      "top": null,
      "visibility": null,
      "width": null
     }
    },
    "1e0fc65863e247bba684aa570176e47e": {
     "model_module": "@jupyter-widgets/controls",
     "model_name": "HBoxModel",
     "state": {
      "_dom_classes": [],
      "_model_module": "@jupyter-widgets/controls",
      "_model_module_version": "1.5.0",
      "_model_name": "HBoxModel",
      "_view_count": null,
      "_view_module": "@jupyter-widgets/controls",
      "_view_module_version": "1.5.0",
      "_view_name": "HBoxView",
      "box_style": "",
      "children": [
       "IPY_MODEL_9b0d7cc1d4a84b32ad704d0f92aaf7c2",
       "IPY_MODEL_359ca0eaed76461b8920085a62f10151"
      ],
      "layout": "IPY_MODEL_0ffb65b8fcd64017a1575ef5c6fb6783"
     }
    },
    "2dfa9272bd3a454582ebcd023d814301": {
     "model_module": "@jupyter-widgets/controls",
     "model_name": "HTMLModel",
     "state": {
      "_dom_classes": [],
      "_model_module": "@jupyter-widgets/controls",
      "_model_module_version": "1.5.0",
      "_model_name": "HTMLModel",
      "_view_count": null,
      "_view_module": "@jupyter-widgets/controls",
      "_view_module_version": "1.5.0",
      "_view_name": "HTMLView",
      "description": "",
      "description_tooltip": null,
      "layout": "IPY_MODEL_5cdd60a9989c4e2fba367aa0fc23db04",
      "placeholder": "​",
      "style": "IPY_MODEL_77a3b32f508c46f4a5bae2a29bbfc4f2",
      "value": " 8192/? [00:06&lt;00:00, 1348.53it/s]"
     }
    },
    "359ca0eaed76461b8920085a62f10151": {
     "model_module": "@jupyter-widgets/controls",
     "model_name": "HTMLModel",
     "state": {
      "_dom_classes": [],
      "_model_module": "@jupyter-widgets/controls",
      "_model_module_version": "1.5.0",
      "_model_name": "HTMLModel",
      "_view_count": null,
      "_view_module": "@jupyter-widgets/controls",
      "_view_module_version": "1.5.0",
      "_view_name": "HTMLView",
      "description": "",
      "description_tooltip": null,
      "layout": "IPY_MODEL_080f0e9e20374c8b9d0772c207d40204",
      "placeholder": "​",
      "style": "IPY_MODEL_7cb630c6d3784c0ba705b39311a36690",
      "value": " 0/28881 [00:00&lt;?, ?it/s]"
     }
    },
    "3ce16927200e4dfbba645b52ede3be15": {
     "model_module": "@jupyter-widgets/controls",
     "model_name": "HTMLModel",
     "state": {
      "_dom_classes": [],
      "_model_module": "@jupyter-widgets/controls",
      "_model_module_version": "1.5.0",
      "_model_name": "HTMLModel",
      "_view_count": null,
      "_view_module": "@jupyter-widgets/controls",
      "_view_module_version": "1.5.0",
      "_view_name": "HTMLView",
      "description": "",
      "description_tooltip": null,
      "layout": "IPY_MODEL_51fab2724f5240f2a197da36bfb5d37f",
      "placeholder": "​",
      "style": "IPY_MODEL_7f3be4825b3942bfbd15404ae2826968",
      "value": " 9920512/? [00:20&lt;00:00, 1533441.80it/s]"
     }
    },
    "40781e910ad14961b70299654d08af57": {
     "model_module": "@jupyter-widgets/controls",
     "model_name": "ProgressStyleModel",
     "state": {
      "_model_module": "@jupyter-widgets/controls",
      "_model_module_version": "1.5.0",
      "_model_name": "ProgressStyleModel",
      "_view_count": null,
      "_view_module": "@jupyter-widgets/base",
      "_view_module_version": "1.2.0",
      "_view_name": "StyleView",
      "bar_color": null,
      "description_width": "initial"
     }
    },
    "410b4797b4eb474185b6e9e8768efe90": {
     "model_module": "@jupyter-widgets/base",
     "model_name": "LayoutModel",
     "state": {
      "_model_module": "@jupyter-widgets/base",
      "_model_module_version": "1.2.0",
      "_model_name": "LayoutModel",
      "_view_count": null,
      "_view_module": "@jupyter-widgets/base",
      "_view_module_version": "1.2.0",
      "_view_name": "LayoutView",
      "align_content": null,
      "align_items": null,
      "align_self": null,
      "border": null,
      "bottom": null,
      "display": null,
      "flex": null,
      "flex_flow": null,
      "grid_area": null,
      "grid_auto_columns": null,
      "grid_auto_flow": null,
      "grid_auto_rows": null,
      "grid_column": null,
      "grid_gap": null,
      "grid_row": null,
      "grid_template_areas": null,
      "grid_template_columns": null,
      "grid_template_rows": null,
      "height": null,
      "justify_content": null,
      "justify_items": null,
      "left": null,
      "margin": null,
      "max_height": null,
      "max_width": null,
      "min_height": null,
      "min_width": null,
      "object_fit": null,
      "object_position": null,
      "order": null,
      "overflow": null,
      "overflow_x": null,
      "overflow_y": null,
      "padding": null,
      "right": null,
      "top": null,
      "visibility": null,
      "width": null
     }
    },
    "443bc19134b346e282b58b81de72ee9b": {
     "model_module": "@jupyter-widgets/controls",
     "model_name": "HBoxModel",
     "state": {
      "_dom_classes": [],
      "_model_module": "@jupyter-widgets/controls",
      "_model_module_version": "1.5.0",
      "_model_name": "HBoxModel",
      "_view_count": null,
      "_view_module": "@jupyter-widgets/controls",
      "_view_module_version": "1.5.0",
      "_view_name": "HBoxView",
      "box_style": "",
      "children": [
       "IPY_MODEL_d51c1aaaee7e40eb9a6946ee964f26db",
       "IPY_MODEL_75a9df895ea94bb787ead957f9b540c9"
      ],
      "layout": "IPY_MODEL_be2ab404919947b6bec6e47d8ef2293e"
     }
    },
    "48f34dff73514ae58be4a78b897605de": {
     "model_module": "@jupyter-widgets/base",
     "model_name": "LayoutModel",
     "state": {
      "_model_module": "@jupyter-widgets/base",
      "_model_module_version": "1.2.0",
      "_model_name": "LayoutModel",
      "_view_count": null,
      "_view_module": "@jupyter-widgets/base",
      "_view_module_version": "1.2.0",
      "_view_name": "LayoutView",
      "align_content": null,
      "align_items": null,
      "align_self": null,
      "border": null,
      "bottom": null,
      "display": null,
      "flex": null,
      "flex_flow": null,
      "grid_area": null,
      "grid_auto_columns": null,
      "grid_auto_flow": null,
      "grid_auto_rows": null,
      "grid_column": null,
      "grid_gap": null,
      "grid_row": null,
      "grid_template_areas": null,
      "grid_template_columns": null,
      "grid_template_rows": null,
      "height": null,
      "justify_content": null,
      "justify_items": null,
      "left": null,
      "margin": null,
      "max_height": null,
      "max_width": null,
      "min_height": null,
      "min_width": null,
      "object_fit": null,
      "object_position": null,
      "order": null,
      "overflow": null,
      "overflow_x": null,
      "overflow_y": null,
      "padding": null,
      "right": null,
      "top": null,
      "visibility": null,
      "width": null
     }
    },
    "51fab2724f5240f2a197da36bfb5d37f": {
     "model_module": "@jupyter-widgets/base",
     "model_name": "LayoutModel",
     "state": {
      "_model_module": "@jupyter-widgets/base",
      "_model_module_version": "1.2.0",
      "_model_name": "LayoutModel",
      "_view_count": null,
      "_view_module": "@jupyter-widgets/base",
      "_view_module_version": "1.2.0",
      "_view_name": "LayoutView",
      "align_content": null,
      "align_items": null,
      "align_self": null,
      "border": null,
      "bottom": null,
      "display": null,
      "flex": null,
      "flex_flow": null,
      "grid_area": null,
      "grid_auto_columns": null,
      "grid_auto_flow": null,
      "grid_auto_rows": null,
      "grid_column": null,
      "grid_gap": null,
      "grid_row": null,
      "grid_template_areas": null,
      "grid_template_columns": null,
      "grid_template_rows": null,
      "height": null,
      "justify_content": null,
      "justify_items": null,
      "left": null,
      "margin": null,
      "max_height": null,
      "max_width": null,
      "min_height": null,
      "min_width": null,
      "object_fit": null,
      "object_position": null,
      "order": null,
      "overflow": null,
      "overflow_x": null,
      "overflow_y": null,
      "padding": null,
      "right": null,
      "top": null,
      "visibility": null,
      "width": null
     }
    },
    "5cdd60a9989c4e2fba367aa0fc23db04": {
     "model_module": "@jupyter-widgets/base",
     "model_name": "LayoutModel",
     "state": {
      "_model_module": "@jupyter-widgets/base",
      "_model_module_version": "1.2.0",
      "_model_name": "LayoutModel",
      "_view_count": null,
      "_view_module": "@jupyter-widgets/base",
      "_view_module_version": "1.2.0",
      "_view_name": "LayoutView",
      "align_content": null,
      "align_items": null,
      "align_self": null,
      "border": null,
      "bottom": null,
      "display": null,
      "flex": null,
      "flex_flow": null,
      "grid_area": null,
      "grid_auto_columns": null,
      "grid_auto_flow": null,
      "grid_auto_rows": null,
      "grid_column": null,
      "grid_gap": null,
      "grid_row": null,
      "grid_template_areas": null,
      "grid_template_columns": null,
      "grid_template_rows": null,
      "height": null,
      "justify_content": null,
      "justify_items": null,
      "left": null,
      "margin": null,
      "max_height": null,
      "max_width": null,
      "min_height": null,
      "min_width": null,
      "object_fit": null,
      "object_position": null,
      "order": null,
      "overflow": null,
      "overflow_x": null,
      "overflow_y": null,
      "padding": null,
      "right": null,
      "top": null,
      "visibility": null,
      "width": null
     }
    },
    "68fb67ba49274e2381586dfa12d4a00a": {
     "model_module": "@jupyter-widgets/controls",
     "model_name": "ProgressStyleModel",
     "state": {
      "_model_module": "@jupyter-widgets/controls",
      "_model_module_version": "1.5.0",
      "_model_name": "ProgressStyleModel",
      "_view_count": null,
      "_view_module": "@jupyter-widgets/base",
      "_view_module_version": "1.2.0",
      "_view_name": "StyleView",
      "bar_color": null,
      "description_width": "initial"
     }
    },
    "73155d071971464cac0ed23138cde635": {
     "model_module": "@jupyter-widgets/controls",
     "model_name": "DescriptionStyleModel",
     "state": {
      "_model_module": "@jupyter-widgets/controls",
      "_model_module_version": "1.5.0",
      "_model_name": "DescriptionStyleModel",
      "_view_count": null,
      "_view_module": "@jupyter-widgets/base",
      "_view_module_version": "1.2.0",
      "_view_name": "StyleView",
      "description_width": ""
     }
    },
    "75a9df895ea94bb787ead957f9b540c9": {
     "model_module": "@jupyter-widgets/controls",
     "model_name": "HTMLModel",
     "state": {
      "_dom_classes": [],
      "_model_module": "@jupyter-widgets/controls",
      "_model_module_version": "1.5.0",
      "_model_name": "HTMLModel",
      "_view_count": null,
      "_view_module": "@jupyter-widgets/controls",
      "_view_module_version": "1.5.0",
      "_view_name": "HTMLView",
      "description": "",
      "description_tooltip": null,
      "layout": "IPY_MODEL_ad74039e867d489fbcc6c9d8ff34706c",
      "placeholder": "​",
      "style": "IPY_MODEL_73155d071971464cac0ed23138cde635",
      "value": " 1654784/? [00:06&lt;00:00, 244349.52it/s]"
     }
    },
    "77a3b32f508c46f4a5bae2a29bbfc4f2": {
     "model_module": "@jupyter-widgets/controls",
     "model_name": "DescriptionStyleModel",
     "state": {
      "_model_module": "@jupyter-widgets/controls",
      "_model_module_version": "1.5.0",
      "_model_name": "DescriptionStyleModel",
      "_view_count": null,
      "_view_module": "@jupyter-widgets/base",
      "_view_module_version": "1.2.0",
      "_view_name": "StyleView",
      "description_width": ""
     }
    },
    "7cb630c6d3784c0ba705b39311a36690": {
     "model_module": "@jupyter-widgets/controls",
     "model_name": "DescriptionStyleModel",
     "state": {
      "_model_module": "@jupyter-widgets/controls",
      "_model_module_version": "1.5.0",
      "_model_name": "DescriptionStyleModel",
      "_view_count": null,
      "_view_module": "@jupyter-widgets/base",
      "_view_module_version": "1.2.0",
      "_view_name": "StyleView",
      "description_width": ""
     }
    },
    "7f3be4825b3942bfbd15404ae2826968": {
     "model_module": "@jupyter-widgets/controls",
     "model_name": "DescriptionStyleModel",
     "state": {
      "_model_module": "@jupyter-widgets/controls",
      "_model_module_version": "1.5.0",
      "_model_name": "DescriptionStyleModel",
      "_view_count": null,
      "_view_module": "@jupyter-widgets/base",
      "_view_module_version": "1.2.0",
      "_view_name": "StyleView",
      "description_width": ""
     }
    },
    "86cdc4424b24473a8d571d2160ee7576": {
     "model_module": "@jupyter-widgets/base",
     "model_name": "LayoutModel",
     "state": {
      "_model_module": "@jupyter-widgets/base",
      "_model_module_version": "1.2.0",
      "_model_name": "LayoutModel",
      "_view_count": null,
      "_view_module": "@jupyter-widgets/base",
      "_view_module_version": "1.2.0",
      "_view_name": "LayoutView",
      "align_content": null,
      "align_items": null,
      "align_self": null,
      "border": null,
      "bottom": null,
      "display": null,
      "flex": null,
      "flex_flow": null,
      "grid_area": null,
      "grid_auto_columns": null,
      "grid_auto_flow": null,
      "grid_auto_rows": null,
      "grid_column": null,
      "grid_gap": null,
      "grid_row": null,
      "grid_template_areas": null,
      "grid_template_columns": null,
      "grid_template_rows": null,
      "height": null,
      "justify_content": null,
      "justify_items": null,
      "left": null,
      "margin": null,
      "max_height": null,
      "max_width": null,
      "min_height": null,
      "min_width": null,
      "object_fit": null,
      "object_position": null,
      "order": null,
      "overflow": null,
      "overflow_x": null,
      "overflow_y": null,
      "padding": null,
      "right": null,
      "top": null,
      "visibility": null,
      "width": null
     }
    },
    "8a08a24593a2422985302484dc4594d1": {
     "model_module": "@jupyter-widgets/controls",
     "model_name": "ProgressStyleModel",
     "state": {
      "_model_module": "@jupyter-widgets/controls",
      "_model_module_version": "1.5.0",
      "_model_name": "ProgressStyleModel",
      "_view_count": null,
      "_view_module": "@jupyter-widgets/base",
      "_view_module_version": "1.2.0",
      "_view_name": "StyleView",
      "bar_color": null,
      "description_width": "initial"
     }
    },
    "8c6d1f7d352a4c089e4ae601a73c1068": {
     "model_module": "@jupyter-widgets/controls",
     "model_name": "IntProgressModel",
     "state": {
      "_dom_classes": [],
      "_model_module": "@jupyter-widgets/controls",
      "_model_module_version": "1.5.0",
      "_model_name": "IntProgressModel",
      "_view_count": null,
      "_view_module": "@jupyter-widgets/controls",
      "_view_module_version": "1.5.0",
      "_view_name": "ProgressView",
      "bar_style": "info",
      "description": "",
      "description_tooltip": null,
      "layout": "IPY_MODEL_410b4797b4eb474185b6e9e8768efe90",
      "max": 1,
      "min": 0,
      "orientation": "horizontal",
      "style": "IPY_MODEL_8a08a24593a2422985302484dc4594d1",
      "value": 1
     }
    },
    "9601fc4be35543a784d4231a2de31edb": {
     "model_module": "@jupyter-widgets/base",
     "model_name": "LayoutModel",
     "state": {
      "_model_module": "@jupyter-widgets/base",
      "_model_module_version": "1.2.0",
      "_model_name": "LayoutModel",
      "_view_count": null,
      "_view_module": "@jupyter-widgets/base",
      "_view_module_version": "1.2.0",
      "_view_name": "LayoutView",
      "align_content": null,
      "align_items": null,
      "align_self": null,
      "border": null,
      "bottom": null,
      "display": null,
      "flex": null,
      "flex_flow": null,
      "grid_area": null,
      "grid_auto_columns": null,
      "grid_auto_flow": null,
      "grid_auto_rows": null,
      "grid_column": null,
      "grid_gap": null,
      "grid_row": null,
      "grid_template_areas": null,
      "grid_template_columns": null,
      "grid_template_rows": null,
      "height": null,
      "justify_content": null,
      "justify_items": null,
      "left": null,
      "margin": null,
      "max_height": null,
      "max_width": null,
      "min_height": null,
      "min_width": null,
      "object_fit": null,
      "object_position": null,
      "order": null,
      "overflow": null,
      "overflow_x": null,
      "overflow_y": null,
      "padding": null,
      "right": null,
      "top": null,
      "visibility": null,
      "width": null
     }
    },
    "9b0d7cc1d4a84b32ad704d0f92aaf7c2": {
     "model_module": "@jupyter-widgets/controls",
     "model_name": "IntProgressModel",
     "state": {
      "_dom_classes": [],
      "_model_module": "@jupyter-widgets/controls",
      "_model_module_version": "1.5.0",
      "_model_name": "IntProgressModel",
      "_view_count": null,
      "_view_module": "@jupyter-widgets/controls",
      "_view_module_version": "1.5.0",
      "_view_name": "ProgressView",
      "bar_style": "info",
      "description": "  0%",
      "description_tooltip": null,
      "layout": "IPY_MODEL_c75be203b59b4c599fd51b44b5359236",
      "max": 1,
      "min": 0,
      "orientation": "horizontal",
      "style": "IPY_MODEL_0d2ab5e4e4634c2d84445dcb59e63093",
      "value": 0
     }
    },
    "9d5649b6391e44f5ad266c65fe71ec8e": {
     "model_module": "@jupyter-widgets/controls",
     "model_name": "IntProgressModel",
     "state": {
      "_dom_classes": [],
      "_model_module": "@jupyter-widgets/controls",
      "_model_module_version": "1.5.0",
      "_model_name": "IntProgressModel",
      "_view_count": null,
      "_view_module": "@jupyter-widgets/controls",
      "_view_module_version": "1.5.0",
      "_view_name": "ProgressView",
      "bar_style": "success",
      "description": "",
      "description_tooltip": null,
      "layout": "IPY_MODEL_de997021a80b4943b20c5518910ea387",
      "max": 1,
      "min": 0,
      "orientation": "horizontal",
      "style": "IPY_MODEL_68fb67ba49274e2381586dfa12d4a00a",
      "value": 1
     }
    },
    "ad74039e867d489fbcc6c9d8ff34706c": {
     "model_module": "@jupyter-widgets/base",
     "model_name": "LayoutModel",
     "state": {
      "_model_module": "@jupyter-widgets/base",
      "_model_module_version": "1.2.0",
      "_model_name": "LayoutModel",
      "_view_count": null,
      "_view_module": "@jupyter-widgets/base",
      "_view_module_version": "1.2.0",
      "_view_name": "LayoutView",
      "align_content": null,
      "align_items": null,
      "align_self": null,
      "border": null,
      "bottom": null,
      "display": null,
      "flex": null,
      "flex_flow": null,
      "grid_area": null,
      "grid_auto_columns": null,
      "grid_auto_flow": null,
      "grid_auto_rows": null,
      "grid_column": null,
      "grid_gap": null,
      "grid_row": null,
      "grid_template_areas": null,
      "grid_template_columns": null,
      "grid_template_rows": null,
      "height": null,
      "justify_content": null,
      "justify_items": null,
      "left": null,
      "margin": null,
      "max_height": null,
      "max_width": null,
      "min_height": null,
      "min_width": null,
      "object_fit": null,
      "object_position": null,
      "order": null,
      "overflow": null,
      "overflow_x": null,
      "overflow_y": null,
      "padding": null,
      "right": null,
      "top": null,
      "visibility": null,
      "width": null
     }
    },
    "bde4879694234dc087cc6ef3a8f999e4": {
     "model_module": "@jupyter-widgets/controls",
     "model_name": "HBoxModel",
     "state": {
      "_dom_classes": [],
      "_model_module": "@jupyter-widgets/controls",
      "_model_module_version": "1.5.0",
      "_model_name": "HBoxModel",
      "_view_count": null,
      "_view_module": "@jupyter-widgets/controls",
      "_view_module_version": "1.5.0",
      "_view_name": "HBoxView",
      "box_style": "",
      "children": [
       "IPY_MODEL_9d5649b6391e44f5ad266c65fe71ec8e",
       "IPY_MODEL_2dfa9272bd3a454582ebcd023d814301"
      ],
      "layout": "IPY_MODEL_86cdc4424b24473a8d571d2160ee7576"
     }
    },
    "be2ab404919947b6bec6e47d8ef2293e": {
     "model_module": "@jupyter-widgets/base",
     "model_name": "LayoutModel",
     "state": {
      "_model_module": "@jupyter-widgets/base",
      "_model_module_version": "1.2.0",
      "_model_name": "LayoutModel",
      "_view_count": null,
      "_view_module": "@jupyter-widgets/base",
      "_view_module_version": "1.2.0",
      "_view_name": "LayoutView",
      "align_content": null,
      "align_items": null,
      "align_self": null,
      "border": null,
      "bottom": null,
      "display": null,
      "flex": null,
      "flex_flow": null,
      "grid_area": null,
      "grid_auto_columns": null,
      "grid_auto_flow": null,
      "grid_auto_rows": null,
      "grid_column": null,
      "grid_gap": null,
      "grid_row": null,
      "grid_template_areas": null,
      "grid_template_columns": null,
      "grid_template_rows": null,
      "height": null,
      "justify_content": null,
      "justify_items": null,
      "left": null,
      "margin": null,
      "max_height": null,
      "max_width": null,
      "min_height": null,
      "min_width": null,
      "object_fit": null,
      "object_position": null,
      "order": null,
      "overflow": null,
      "overflow_x": null,
      "overflow_y": null,
      "padding": null,
      "right": null,
      "top": null,
      "visibility": null,
      "width": null
     }
    },
    "c33f5dd2c1f443f1b771f0c46054eebf": {
     "model_module": "@jupyter-widgets/controls",
     "model_name": "HBoxModel",
     "state": {
      "_dom_classes": [],
      "_model_module": "@jupyter-widgets/controls",
      "_model_module_version": "1.5.0",
      "_model_name": "HBoxModel",
      "_view_count": null,
      "_view_module": "@jupyter-widgets/controls",
      "_view_module_version": "1.5.0",
      "_view_name": "HBoxView",
      "box_style": "",
      "children": [
       "IPY_MODEL_8c6d1f7d352a4c089e4ae601a73c1068",
       "IPY_MODEL_3ce16927200e4dfbba645b52ede3be15"
      ],
      "layout": "IPY_MODEL_9601fc4be35543a784d4231a2de31edb"
     }
    },
    "c75be203b59b4c599fd51b44b5359236": {
     "model_module": "@jupyter-widgets/base",
     "model_name": "LayoutModel",
     "state": {
      "_model_module": "@jupyter-widgets/base",
      "_model_module_version": "1.2.0",
      "_model_name": "LayoutModel",
      "_view_count": null,
      "_view_module": "@jupyter-widgets/base",
      "_view_module_version": "1.2.0",
      "_view_name": "LayoutView",
      "align_content": null,
      "align_items": null,
      "align_self": null,
      "border": null,
      "bottom": null,
      "display": null,
      "flex": null,
      "flex_flow": null,
      "grid_area": null,
      "grid_auto_columns": null,
      "grid_auto_flow": null,
      "grid_auto_rows": null,
      "grid_column": null,
      "grid_gap": null,
      "grid_row": null,
      "grid_template_areas": null,
      "grid_template_columns": null,
      "grid_template_rows": null,
      "height": null,
      "justify_content": null,
      "justify_items": null,
      "left": null,
      "margin": null,
      "max_height": null,
      "max_width": null,
      "min_height": null,
      "min_width": null,
      "object_fit": null,
      "object_position": null,
      "order": null,
      "overflow": null,
      "overflow_x": null,
      "overflow_y": null,
      "padding": null,
      "right": null,
      "top": null,
      "visibility": null,
      "width": null
     }
    },
    "d51c1aaaee7e40eb9a6946ee964f26db": {
     "model_module": "@jupyter-widgets/controls",
     "model_name": "IntProgressModel",
     "state": {
      "_dom_classes": [],
      "_model_module": "@jupyter-widgets/controls",
      "_model_module_version": "1.5.0",
      "_model_name": "IntProgressModel",
      "_view_count": null,
      "_view_module": "@jupyter-widgets/controls",
      "_view_module_version": "1.5.0",
      "_view_name": "ProgressView",
      "bar_style": "success",
      "description": "",
      "description_tooltip": null,
      "layout": "IPY_MODEL_48f34dff73514ae58be4a78b897605de",
      "max": 1,
      "min": 0,
      "orientation": "horizontal",
      "style": "IPY_MODEL_40781e910ad14961b70299654d08af57",
      "value": 1
     }
    },
    "de997021a80b4943b20c5518910ea387": {
     "model_module": "@jupyter-widgets/base",
     "model_name": "LayoutModel",
     "state": {
      "_model_module": "@jupyter-widgets/base",
      "_model_module_version": "1.2.0",
      "_model_name": "LayoutModel",
      "_view_count": null,
      "_view_module": "@jupyter-widgets/base",
      "_view_module_version": "1.2.0",
      "_view_name": "LayoutView",
      "align_content": null,
      "align_items": null,
      "align_self": null,
      "border": null,
      "bottom": null,
      "display": null,
      "flex": null,
      "flex_flow": null,
      "grid_area": null,
      "grid_auto_columns": null,
      "grid_auto_flow": null,
      "grid_auto_rows": null,
      "grid_column": null,
      "grid_gap": null,
      "grid_row": null,
      "grid_template_areas": null,
      "grid_template_columns": null,
      "grid_template_rows": null,
      "height": null,
      "justify_content": null,
      "justify_items": null,
      "left": null,
      "margin": null,
      "max_height": null,
      "max_width": null,
      "min_height": null,
      "min_width": null,
      "object_fit": null,
      "object_position": null,
      "order": null,
      "overflow": null,
      "overflow_x": null,
      "overflow_y": null,
      "padding": null,
      "right": null,
      "top": null,
      "visibility": null,
      "width": null
     }
    }
   }
  }
 },
 "nbformat": 4,
 "nbformat_minor": 4
}
